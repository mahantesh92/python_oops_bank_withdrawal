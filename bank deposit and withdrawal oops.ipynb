{
 "cells": [
  {
   "cell_type": "code",
   "execution_count": 1,
   "id": "ef63980a",
   "metadata": {},
   "outputs": [],
   "source": [
    "class Account():\n",
    "    def __init__(self,owner,balance):\n",
    "        self.owner=owner\n",
    "        self.balance=balance\n",
    "    def deposit(self):\n",
    "        print(\"account owner:{0}\".format(self.owner))\n",
    "        amount=int(input(\"enter the amount you want to deposit:\"))\n",
    "        self.balance+=amount\n",
    "        print(\"account balance:{0}\".format(self.balance))\n",
    "        \n",
    "    def withdrawal(self):\n",
    "        print(\"account owner:{0}\".format(self.owner))\n",
    "        amount1=int(input(\"enter the amount you want to withdraw:\"))\n",
    "        if amount1<=self.balance:\n",
    "            \n",
    "        \n",
    "            self.balance-=amount1\n",
    "            print(\"account balance:{0}\".format(self.balance))\n",
    "        else:\n",
    "            print(\"sorry low balance cannot withdraw\")\n",
    "    "
   ]
  },
  {
   "cell_type": "code",
   "execution_count": 3,
   "id": "bad16fe5",
   "metadata": {},
   "outputs": [],
   "source": [
    "#creationofmyaccountobj\n",
    "my_account=Account('karan',1500)"
   ]
  },
  {
   "cell_type": "code",
   "execution_count": 4,
   "id": "ae009766",
   "metadata": {},
   "outputs": [
    {
     "data": {
      "text/plain": [
       "1500"
      ]
     },
     "execution_count": 4,
     "metadata": {},
     "output_type": "execute_result"
    }
   ],
   "source": [
    "my_account.balance"
   ]
  },
  {
   "cell_type": "code",
   "execution_count": 5,
   "id": "99a390a8",
   "metadata": {},
   "outputs": [
    {
     "name": "stdout",
     "output_type": "stream",
     "text": [
      "account owner:karan\n",
      "enter the amount you want to deposit:1500\n",
      "account balance:3000\n"
     ]
    }
   ],
   "source": [
    "my_account.deposit()"
   ]
  },
  {
   "cell_type": "code",
   "execution_count": 6,
   "id": "9a78d0fe",
   "metadata": {},
   "outputs": [
    {
     "name": "stdout",
     "output_type": "stream",
     "text": [
      "account owner:karan\n",
      "enter the amount you want to withdraw:5000\n",
      "sorry low balance cannot withdraw\n"
     ]
    }
   ],
   "source": [
    "my_account.withdrawal()"
   ]
  },
  {
   "cell_type": "code",
   "execution_count": 7,
   "id": "654dc35f",
   "metadata": {},
   "outputs": [
    {
     "name": "stdout",
     "output_type": "stream",
     "text": [
      "account owner:karan\n",
      "enter the amount you want to withdraw:1500\n",
      "account balance:1500\n"
     ]
    }
   ],
   "source": [
    "my_account.withdrawal()"
   ]
  },
  {
   "cell_type": "code",
   "execution_count": null,
   "id": "9dc79416",
   "metadata": {},
   "outputs": [],
   "source": []
  }
 ],
 "metadata": {
  "kernelspec": {
   "display_name": "Python 3 (ipykernel)",
   "language": "python",
   "name": "python3"
  },
  "language_info": {
   "codemirror_mode": {
    "name": "ipython",
    "version": 3
   },
   "file_extension": ".py",
   "mimetype": "text/x-python",
   "name": "python",
   "nbconvert_exporter": "python",
   "pygments_lexer": "ipython3",
   "version": "3.11.4"
  }
 },
 "nbformat": 4,
 "nbformat_minor": 5
}
